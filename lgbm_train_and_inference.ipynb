{
 "cells": [
  {
   "cell_type": "code",
   "execution_count": 1,
   "id": "1f94d67b",
   "metadata": {
    "_cell_guid": "b1076dfc-b9ad-4769-8c92-a6c4dae69d19",
    "_uuid": "8f2839f25d086af736a60e9eeb907d3b93b6e0e5",
    "execution": {
     "iopub.execute_input": "2023-06-27T15:57:39.569813Z",
     "iopub.status.busy": "2023-06-27T15:57:39.569065Z",
     "iopub.status.idle": "2023-06-27T15:57:42.636045Z",
     "shell.execute_reply": "2023-06-27T15:57:42.634863Z"
    },
    "papermill": {
     "duration": 3.078012,
     "end_time": "2023-06-27T15:57:42.639285",
     "exception": false,
     "start_time": "2023-06-27T15:57:39.561273",
     "status": "completed"
    },
    "tags": []
   },
   "outputs": [],
   "source": [
    "import pandas as pd\n",
    "import numpy as np\n",
    "import matplotlib.pyplot as plt\n",
    "import polars as pl\n",
    "import seaborn as sns\n",
    "\n",
    "import gc\n",
    "\n",
    "import warnings\n",
    "warnings.filterwarnings(\"ignore\")\n",
    "\n",
    "from lightgbm import LGBMClassifier\n",
    "from lightgbm import Booster\n",
    "\n",
    "from sklearn.model_selection import KFold\n",
    "from sklearn.metrics import f1_score"
   ]
  },
  {
   "cell_type": "code",
   "execution_count": 2,
   "id": "9b58b867",
   "metadata": {
    "execution": {
     "iopub.execute_input": "2023-06-27T15:57:42.655028Z",
     "iopub.status.busy": "2023-06-27T15:57:42.654636Z",
     "iopub.status.idle": "2023-06-27T15:57:42.659915Z",
     "shell.execute_reply": "2023-06-27T15:57:42.658843Z"
    },
    "papermill": {
     "duration": 0.016429,
     "end_time": "2023-06-27T15:57:42.662714",
     "exception": false,
     "start_time": "2023-06-27T15:57:42.646285",
     "status": "completed"
    },
    "tags": []
   },
   "outputs": [],
   "source": [
    "TRAIN_0_4_PATH = \"/kaggle/input/prepareddata/train_0_4.pkl\"\n",
    "TRAIN_5_12_PATH = \"/kaggle/input/prepareddata/train_5_12.pkl\"\n",
    "TRAIN_13_22_PATH = \"/kaggle/input/prepareddata/train_13_22.pkl\"\n",
    "TRAIN_LABELS_PATH = \"/kaggle/input/predict-student-performance-from-game-play/train_labels.csv\""
   ]
  },
  {
   "cell_type": "code",
   "execution_count": 3,
   "id": "d4132845",
   "metadata": {
    "execution": {
     "iopub.execute_input": "2023-06-27T15:57:42.678084Z",
     "iopub.status.busy": "2023-06-27T15:57:42.677370Z",
     "iopub.status.idle": "2023-06-27T15:58:06.652161Z",
     "shell.execute_reply": "2023-06-27T15:58:06.651213Z"
    },
    "papermill": {
     "duration": 23.985631,
     "end_time": "2023-06-27T15:58:06.655014",
     "exception": false,
     "start_time": "2023-06-27T15:57:42.669383",
     "status": "completed"
    },
    "tags": []
   },
   "outputs": [],
   "source": [
    "train_raw_0_4 = pd.read_pickle(TRAIN_0_4_PATH)\n",
    "train_raw_5_12 = pd.read_pickle(TRAIN_5_12_PATH)\n",
    "train_raw_13_22 = pd.read_pickle(TRAIN_13_22_PATH)"
   ]
  },
  {
   "cell_type": "code",
   "execution_count": 4,
   "id": "626db924",
   "metadata": {
    "execution": {
     "iopub.execute_input": "2023-06-27T15:58:06.671026Z",
     "iopub.status.busy": "2023-06-27T15:58:06.670626Z",
     "iopub.status.idle": "2023-06-27T15:58:08.261105Z",
     "shell.execute_reply": "2023-06-27T15:58:08.260087Z"
    },
    "papermill": {
     "duration": 1.601435,
     "end_time": "2023-06-27T15:58:08.263914",
     "exception": false,
     "start_time": "2023-06-27T15:58:06.662479",
     "status": "completed"
    },
    "tags": []
   },
   "outputs": [],
   "source": [
    "targets = pd.read_csv(TRAIN_LABELS_PATH)\n",
    "targets['session'] = targets.session_id.apply(lambda x: int(x.split('_')[0]))\n",
    "targets['q'] = targets.session_id.apply(lambda x: int(x.split('_')[-1][1:]))"
   ]
  },
  {
   "cell_type": "code",
   "execution_count": 5,
   "id": "3687359b",
   "metadata": {
    "execution": {
     "iopub.execute_input": "2023-06-27T15:58:08.278931Z",
     "iopub.status.busy": "2023-06-27T15:58:08.278572Z",
     "iopub.status.idle": "2023-06-27T15:58:11.199526Z",
     "shell.execute_reply": "2023-06-27T15:58:11.198364Z"
    },
    "papermill": {
     "duration": 2.931783,
     "end_time": "2023-06-27T15:58:11.202473",
     "exception": false,
     "start_time": "2023-06-27T15:58:08.270690",
     "status": "completed"
    },
    "tags": []
   },
   "outputs": [],
   "source": [
    "NUM_COLS = ['level', \n",
    "            'page',\n",
    "            'hover_duration',\n",
    "            'room_coor_x', 'screen_coor_x',\n",
    "            'room_coor_y', 'screen_coor_y',\n",
    "            'delta_absolute_coor_x', 'delta_absolute_coor_y',\n",
    "            'absolute_coor_x', 'absolute_coor_y',\n",
    "            'radius_absolute_coor',\n",
    "            'tangent_absolute_coor',\n",
    "            'delta_radius_absolute_coor', 'delta_tangent_absolute_coor',\n",
    "            'elapsed_time_diff']\n",
    "\n",
    "CAT_COLS = ['full_event_name',\n",
    "            \"text\",\n",
    "            \"event_name\"]\n",
    "\n",
    "FULL_EVENT_NAME = {\n",
    "    \"0_4\": train_raw_0_4[\"full_event_name\"].unique().tolist(),  \n",
    "    \"5_12\": train_raw_5_12[\"full_event_name\"].unique().tolist(),  \n",
    "    \"13_22\": train_raw_13_22[\"full_event_name\"].unique().tolist()  \n",
    "}\n",
    "\n",
    "SUB_LEVELS = {'0_4': [1, 2, 3, 4],\n",
    "              '5_12': [5, 6, 7, 8, 9, 10, 11, 12],\n",
    "              '13_22': [13, 14, 15, 16, 17, 18, 19, 20, 21, 22]}"
   ]
  },
  {
   "cell_type": "code",
   "execution_count": 6,
   "id": "7f2a91d9",
   "metadata": {
    "execution": {
     "iopub.execute_input": "2023-06-27T15:58:11.219731Z",
     "iopub.status.busy": "2023-06-27T15:58:11.219353Z",
     "iopub.status.idle": "2023-06-27T15:58:11.239396Z",
     "shell.execute_reply": "2023-06-27T15:58:11.238386Z"
    },
    "papermill": {
     "duration": 0.031288,
     "end_time": "2023-06-27T15:58:11.242530",
     "exception": false,
     "start_time": "2023-06-27T15:58:11.211242",
     "status": "completed"
    },
    "tags": []
   },
   "outputs": [],
   "source": [
    "def createDeltaElapsedTimeFeatures(df:pd.DataFrame) -> pd.DataFrame:\n",
    "    df['elapsed_time_diff'] = df['elapsed_time'].diff(1).fillna(0)\n",
    "    df = df.drop('elapsed_time', axis=1)\n",
    "    return df\n",
    "\n",
    "def agg_by_elapsed_time_diff(col_name, iter_col, feature_suffix):\n",
    "    agg = [\n",
    "        *[pl.col(col_name).filter(pl.col(col_name) == c).count().alias(f\"{c}_{col_name}_{feature_suffix}\")\n",
    "          for c in iter_col],\n",
    "        *[pl.col(\"elapsed_time_diff\").filter(pl.col(col_name) == c).std().alias(f\"{c}_{col_name}_ET_std_{feature_suffix}\") \n",
    "          for c in iter_col],\n",
    "        *[pl.col(\"elapsed_time_diff\").filter(pl.col(col_name) == c).mean().alias(f\"{c}_{col_name}_ET_mean_{feature_suffix}\") \n",
    "          for c in iter_col],\n",
    "        *[pl.col(\"elapsed_time_diff\").filter(pl.col(col_name) == c).sum().alias(f\"{c}_{col_name}_ET_sum_{feature_suffix}\") \n",
    "          for c in iter_col],\n",
    "        *[pl.col(\"elapsed_time_diff\").filter(pl.col(col_name) == c).median().alias(f\"{c}_{col_name}_ET_median_{feature_suffix}\") \n",
    "          for c in iter_col],\n",
    "        *[pl.col(\"elapsed_time_diff\").filter(pl.col(col_name) == c).max().alias(f\"{c}_{col_name}_ET_max_{feature_suffix}\") \n",
    "          for c in iter_col]\n",
    "    ]\n",
    "    return agg\n",
    "\n",
    "def feature_engineer_pl(x, group, feature_suffix):  \n",
    "     \n",
    "    full_event_names = FULL_EVENT_NAME[group]\n",
    "    levels = SUB_LEVELS[group]\n",
    "\n",
    "    x = pl.from_pandas(x)\n",
    "    aggs = [\n",
    "        *[pl.col(c).drop_nulls().n_unique().alias(f\"{c}_unique_{feature_suffix}\") \n",
    "          for c in CAT_COLS],\n",
    "\n",
    "        *[pl.col(c).mean().alias(f\"{c}_mean_{feature_suffix}\") \n",
    "          for c in NUM_COLS],\n",
    "        *[pl.col(c).std().alias(f\"{c}_std_{feature_suffix}\") \n",
    "          for c in NUM_COLS],\n",
    "        *[pl.col(c).min().alias(f\"{c}_min_{feature_suffix}\") \n",
    "          for c in NUM_COLS],\n",
    "        *[pl.col(c).max().alias(f\"{c}_max_{feature_suffix}\") \n",
    "          for c in NUM_COLS],\n",
    "        *[pl.col(c).median().alias(f\"{c}_median_{feature_suffix}\") \n",
    "          for c in NUM_COLS],\n",
    "        *[pl.col(c).quantile(0.25).alias(f\"{c}_q25_{feature_suffix}\") \n",
    "          for c in NUM_COLS],\n",
    "        *[pl.col(c).quantile(0.75).alias(f\"{c}_q75_{feature_suffix}\") \n",
    "          for c in NUM_COLS]]\n",
    "    \n",
    "    aggs.extend(agg_by_elapsed_time_diff(\"full_event_name\", full_event_names, feature_suffix))\n",
    "    aggs.extend(agg_by_elapsed_time_diff(\"level\", levels, feature_suffix))\n",
    "\n",
    "    df = x.groupby(['session_id'], maintain_order=True).agg(aggs).sort(\"session_id\")\n",
    "    return df.to_pandas()\n",
    "\n",
    "def createTimeFeatures(df):\n",
    "    df[\"month\"] = df[\"session_id\"].apply(lambda x: int(str(x)[2:4])+1).astype(np.uint8)\n",
    "    df[\"day\"] = df[\"session_id\"].apply(lambda x: int(str(x)[4:6])).astype(np.uint8)\n",
    "    df[\"hour\"] = df[\"session_id\"].apply(lambda x: int(str(x)[6:8])).astype(np.uint8)\n",
    "    return df"
   ]
  },
  {
   "cell_type": "code",
   "execution_count": 7,
   "id": "00826700",
   "metadata": {
    "execution": {
     "iopub.execute_input": "2023-06-27T15:58:11.257330Z",
     "iopub.status.busy": "2023-06-27T15:58:11.256929Z",
     "iopub.status.idle": "2023-06-27T15:58:11.262157Z",
     "shell.execute_reply": "2023-06-27T15:58:11.261324Z"
    },
    "papermill": {
     "duration": 0.015166,
     "end_time": "2023-06-27T15:58:11.264257",
     "exception": false,
     "start_time": "2023-06-27T15:58:11.249091",
     "status": "completed"
    },
    "tags": []
   },
   "outputs": [],
   "source": [
    "def pipeline(df:pd.DataFrame, grp) -> pd.DataFrame:\n",
    "    df = createDeltaElapsedTimeFeatures(df)\n",
    "    df = feature_engineer_pl(df, grp, grp)\n",
    "    df = createTimeFeatures(df)\n",
    "    df = df.set_index('session_id')\n",
    "    return df"
   ]
  },
  {
   "cell_type": "code",
   "execution_count": 8,
   "id": "fea65531",
   "metadata": {
    "execution": {
     "iopub.execute_input": "2023-06-27T15:58:11.279453Z",
     "iopub.status.busy": "2023-06-27T15:58:11.278510Z",
     "iopub.status.idle": "2023-06-27T15:59:15.647448Z",
     "shell.execute_reply": "2023-06-27T15:59:15.646436Z"
    },
    "papermill": {
     "duration": 64.379382,
     "end_time": "2023-06-27T15:59:15.650258",
     "exception": false,
     "start_time": "2023-06-27T15:58:11.270876",
     "status": "completed"
    },
    "tags": []
   },
   "outputs": [],
   "source": [
    "df1 = pipeline(train_raw_0_4, \"0_4\")\n",
    "df2 = pipeline(train_raw_5_12, \"5_12\")\n",
    "df3 = pipeline(train_raw_13_22, \"13_22\")"
   ]
  },
  {
   "cell_type": "code",
   "execution_count": 9,
   "id": "dbbf77fc",
   "metadata": {
    "execution": {
     "iopub.execute_input": "2023-06-27T15:59:15.666847Z",
     "iopub.status.busy": "2023-06-27T15:59:15.666012Z",
     "iopub.status.idle": "2023-06-27T15:59:15.676053Z",
     "shell.execute_reply": "2023-06-27T15:59:15.674889Z"
    },
    "papermill": {
     "duration": 0.021353,
     "end_time": "2023-06-27T15:59:15.678750",
     "exception": false,
     "start_time": "2023-06-27T15:59:15.657397",
     "status": "completed"
    },
    "tags": []
   },
   "outputs": [
    {
     "name": "stdout",
     "output_type": "stream",
     "text": [
      "We will train with 23562 users info\n"
     ]
    }
   ],
   "source": [
    "ALL_USERS = df1.index.unique()\n",
    "print('We will train with', len(ALL_USERS) ,'users info')"
   ]
  },
  {
   "cell_type": "code",
   "execution_count": 10,
   "id": "24a4bed2",
   "metadata": {
    "execution": {
     "iopub.execute_input": "2023-06-27T15:59:15.693914Z",
     "iopub.status.busy": "2023-06-27T15:59:15.693518Z",
     "iopub.status.idle": "2023-06-27T15:59:15.701584Z",
     "shell.execute_reply": "2023-06-27T15:59:15.700325Z"
    },
    "papermill": {
     "duration": 0.018345,
     "end_time": "2023-06-27T15:59:15.703919",
     "exception": false,
     "start_time": "2023-06-27T15:59:15.685574",
     "status": "completed"
    },
    "tags": []
   },
   "outputs": [],
   "source": [
    "lgb_params = {\n",
    "    'boosting_type': 'gbdt',\n",
    "    'objective': 'binary',\n",
    "    'metric': 'binary_logloss',\n",
    "    'n_estimators': 400,\n",
    "    'learning_rate': 0.02,\n",
    "    'max_depth': 4,\n",
    "    'alpha': 8,\n",
    "    'subsample': 0.7,\n",
    "    'colsample_bytree': 0.7,\n",
    "    'random_state': 42\n",
    "}"
   ]
  },
  {
   "cell_type": "code",
   "execution_count": 11,
   "id": "ec14a5ca",
   "metadata": {
    "execution": {
     "iopub.execute_input": "2023-06-27T15:59:15.720933Z",
     "iopub.status.busy": "2023-06-27T15:59:15.718873Z",
     "iopub.status.idle": "2023-06-27T15:59:15.730963Z",
     "shell.execute_reply": "2023-06-27T15:59:15.730085Z"
    },
    "papermill": {
     "duration": 0.022815,
     "end_time": "2023-06-27T15:59:15.733695",
     "exception": false,
     "start_time": "2023-06-27T15:59:15.710880",
     "status": "completed"
    },
    "tags": []
   },
   "outputs": [],
   "source": [
    "with open(\"/kaggle/input/features-boruta/BORUTA_FEATURES.csv\", \"r\") as f:\n",
    "    FEATURES_Q = [f.readline().split() for i in range(1,19)]"
   ]
  },
  {
   "cell_type": "code",
   "execution_count": 12,
   "id": "f1100e7b",
   "metadata": {
    "execution": {
     "iopub.execute_input": "2023-06-27T15:59:15.749237Z",
     "iopub.status.busy": "2023-06-27T15:59:15.748475Z",
     "iopub.status.idle": "2023-06-27T16:01:05.440388Z",
     "shell.execute_reply": "2023-06-27T16:01:05.439055Z"
    },
    "papermill": {
     "duration": 109.702625,
     "end_time": "2023-06-27T16:01:05.443074",
     "exception": false,
     "start_time": "2023-06-27T15:59:15.740449",
     "status": "completed"
    },
    "tags": []
   },
   "outputs": [
    {
     "name": "stdout",
     "output_type": "stream",
     "text": [
      "1\n",
      "2\n",
      "3\n",
      "4\n",
      "5\n",
      "6\n",
      "7\n",
      "8\n",
      "9\n",
      "10\n",
      "11\n",
      "12\n",
      "13\n",
      "14\n",
      "15\n",
      "16\n",
      "17\n",
      "18\n"
     ]
    }
   ],
   "source": [
    "n_splits = 5\n",
    "kf = KFold(n_splits=n_splits)\n",
    "\n",
    "for q in range(1, 19):\n",
    "    print(q)\n",
    "    # USE THIS TRAIN DATA WITH THESE QUESTIONS\n",
    "    FEATURES = FEATURES_Q[q-1]\n",
    "    if q <= 3:\n",
    "        grp = '0-4'\n",
    "        df = df1\n",
    "    elif q <= 13:\n",
    "        grp = '5-12'\n",
    "        df = df2\n",
    "    elif q <= 22:\n",
    "        grp = '13-22'\n",
    "        df = df3\n",
    "\n",
    "    # TRAIN DATA\n",
    "    for fold, (train_idx, val_idx) in enumerate(kf.split(df)):\n",
    "        df_train = df.iloc[train_idx] #.reset_index(drop=True)\n",
    "        train_users = df_train.index.values\n",
    "        train_y = targets[targets['session'].isin(list(train_users))].loc[targets.q == q].set_index('session')\n",
    "\n",
    "        df_val = df.iloc[val_idx] #.reset_index(drop=True)\n",
    "        val_users = df_val.index.values\n",
    "        val_y = targets[targets['session'].isin(list(val_users))].loc[targets.q == q].set_index('session')\n",
    "\n",
    "        clf = LGBMClassifier(**lgb_params)\n",
    "        clf.fit(df_train[FEATURES].astype('float32'), train_y['correct'], verbose=0)\n",
    "\n",
    "        clf.booster_.save_model(f'LGBM_question{q}_fold{fold}.lgb')"
   ]
  },
  {
   "cell_type": "code",
   "execution_count": 13,
   "id": "457baa92",
   "metadata": {
    "execution": {
     "iopub.execute_input": "2023-06-27T16:01:05.463085Z",
     "iopub.status.busy": "2023-06-27T16:01:05.462458Z",
     "iopub.status.idle": "2023-06-27T16:01:05.488555Z",
     "shell.execute_reply": "2023-06-27T16:01:05.487624Z"
    },
    "papermill": {
     "duration": 0.039008,
     "end_time": "2023-06-27T16:01:05.490830",
     "exception": false,
     "start_time": "2023-06-27T16:01:05.451822",
     "status": "completed"
    },
    "tags": []
   },
   "outputs": [
    {
     "name": "stdout",
     "output_type": "stream",
     "text": [
      "env made!\n"
     ]
    }
   ],
   "source": [
    "import jo_wilder_310 as jo_wilder\n",
    "try:\n",
    "    env = jo_wilder.make_env()\n",
    "    iter_test = env.iter_test()\n",
    "    print(\"env made!\")\n",
    "except:\n",
    "    jo_wilder.make_env.__called__ = False\n",
    "    type(env)._state = type(type(env)._state).__dict__['INIT']\n",
    "    env = jo_wilder.make_env()\n",
    "    iter_test = env.iter_test()\n",
    "    print(\"env re made!\")"
   ]
  },
  {
   "cell_type": "code",
   "execution_count": 14,
   "id": "c85c8c22",
   "metadata": {
    "execution": {
     "iopub.execute_input": "2023-06-27T16:01:05.510057Z",
     "iopub.status.busy": "2023-06-27T16:01:05.509263Z",
     "iopub.status.idle": "2023-06-27T16:01:06.412238Z",
     "shell.execute_reply": "2023-06-27T16:01:06.411355Z"
    },
    "papermill": {
     "duration": 0.91552,
     "end_time": "2023-06-27T16:01:06.414880",
     "exception": false,
     "start_time": "2023-06-27T16:01:05.499360",
     "status": "completed"
    },
    "tags": []
   },
   "outputs": [],
   "source": [
    "models_list = [[Booster(model_file = f\"/kaggle/working/LGBM_question{q}_fold{fold}.lgb\"\n",
    ") for fold in range(5)] for q in range(1, 19)]"
   ]
  },
  {
   "cell_type": "code",
   "execution_count": 15,
   "id": "0c54c53d",
   "metadata": {
    "execution": {
     "iopub.execute_input": "2023-06-27T16:01:06.433161Z",
     "iopub.status.busy": "2023-06-27T16:01:06.432755Z",
     "iopub.status.idle": "2023-06-27T16:01:06.443198Z",
     "shell.execute_reply": "2023-06-27T16:01:06.442189Z"
    },
    "papermill": {
     "duration": 0.02265,
     "end_time": "2023-06-27T16:01:06.445833",
     "exception": false,
     "start_time": "2023-06-27T16:01:06.423183",
     "status": "completed"
    },
    "tags": []
   },
   "outputs": [],
   "source": [
    "def createPreparedFeatures(df:pd.DataFrame) -> pd.DataFrame:\n",
    "    df = df.sort_values(by=['session_id', 'elapsed_time'])\n",
    "    df[\"full_event_name\"] = df[\"name\"].astype(\"str\") + \"_\" + df[\"event_name\"].astype(\"str\")\n",
    "\n",
    "    df[\"absolute_coor_x\"] = df[\"room_coor_x\"] + df[\"screen_coor_x\"]\n",
    "    df[\"absolute_coor_y\"] = df[\"room_coor_y\"] + df[\"screen_coor_y\"]\n",
    "\n",
    "    df[\"delta_absolute_coor_x\"] = df[\"absolute_coor_x\"].diff(1).fillna(0)\n",
    "    df[\"delta_absolute_coor_y\"] = df[\"absolute_coor_y\"].diff(1).fillna(0)\n",
    "\n",
    "    df[\"radius_absolute_coor\"] = np.sqrt(df[\"absolute_coor_x\"]**2 + df[\"absolute_coor_y\"]**2)\n",
    "    df[\"tangent_absolute_coor\"] = df[\"absolute_coor_y\"]/df[\"absolute_coor_x\"]\n",
    "\n",
    "    df[\"delta_radius_absolute_coor\"] = np.sqrt(df[\"delta_absolute_coor_x\"]**2 + df[\"delta_absolute_coor_y\"]**2)\n",
    "    df[\"delta_tangent_absolute_coor\"] = df[\"delta_absolute_coor_y\"]/df[\"delta_absolute_coor_x\"]\n",
    "\n",
    "    df[\"page\"] = df[\"page\"].fillna(-1) + 1\n",
    "    df[\"hover_duration\"] = df[\"hover_duration\"].fillna(0)\n",
    "    return df"
   ]
  },
  {
   "cell_type": "code",
   "execution_count": 16,
   "id": "03f1aa96",
   "metadata": {
    "execution": {
     "iopub.execute_input": "2023-06-27T16:01:06.465560Z",
     "iopub.status.busy": "2023-06-27T16:01:06.464461Z",
     "iopub.status.idle": "2023-06-27T16:01:07.464612Z",
     "shell.execute_reply": "2023-06-27T16:01:07.463711Z"
    },
    "papermill": {
     "duration": 1.013151,
     "end_time": "2023-06-27T16:01:07.467363",
     "exception": false,
     "start_time": "2023-06-27T16:01:06.454212",
     "status": "completed"
    },
    "tags": []
   },
   "outputs": [
    {
     "name": "stdout",
     "output_type": "stream",
     "text": [
      "This version of the API is not optimized and should not be used to estimate the runtime of your code on the hidden test set.\n"
     ]
    }
   ],
   "source": [
    "limits = {'0-4':(1,4), '5-12':(4,14), '13-22':(14,19)}\n",
    "grps = {'0-4':'0_4', '5-12':'5_12', '13-22':'13_22'}\n",
    "\n",
    "count = 0\n",
    "thresh = 0.62\n",
    "\n",
    "samples = []\n",
    "\n",
    "for (test, sample_submission) in iter_test:\n",
    "    samples.append(sample_submission)\n",
    "    grp = test.level_group.values[0]\n",
    "    a,b = limits[grp]\n",
    "    \n",
    "    test = createPreparedFeatures(test)\n",
    "    test = pipeline(test, grps[grp])\n",
    "    \n",
    "    for q in range(a,b):\n",
    "        FEATURES = FEATURES_Q[q-1]\n",
    "        \n",
    "        model_0 = models_list[q-1][0]\n",
    "        model_1 = models_list[q-1][1]\n",
    "        model_2 = models_list[q-1][2]\n",
    "        model_3 = models_list[q-1][3]\n",
    "        model_4 = models_list[q-1][4]\n",
    "        \n",
    "        pred_0 = model_0.predict(test[FEATURES].astype(np.float32))\n",
    "        pred_1 = model_1.predict(test[FEATURES].astype(np.float32))\n",
    "        pred_2 = model_2.predict(test[FEATURES].astype(np.float32))\n",
    "        pred_3 = model_3.predict(test[FEATURES].astype(np.float32))\n",
    "        pred_4 = model_4.predict(test[FEATURES].astype(np.float32))\n",
    "        \n",
    "        pred = (pred_0 + pred_1 + pred_2 + pred_3 + pred_4) / 5\n",
    "        mask = sample_submission.session_id.str.contains(f'q{q}')\n",
    "        sample_submission.loc[mask,'correct'] = int( pred > thresh)\n",
    "    env.predict(sample_submission)"
   ]
  },
  {
   "cell_type": "code",
   "execution_count": 17,
   "id": "a1b23b90",
   "metadata": {
    "execution": {
     "iopub.execute_input": "2023-06-27T16:01:07.487768Z",
     "iopub.status.busy": "2023-06-27T16:01:07.487074Z",
     "iopub.status.idle": "2023-06-27T16:01:07.516974Z",
     "shell.execute_reply": "2023-06-27T16:01:07.515987Z"
    },
    "papermill": {
     "duration": 0.043476,
     "end_time": "2023-06-27T16:01:07.520315",
     "exception": false,
     "start_time": "2023-06-27T16:01:07.476839",
     "status": "completed"
    },
    "tags": []
   },
   "outputs": [
    {
     "name": "stdout",
     "output_type": "stream",
     "text": [
      "(54, 2)\n"
     ]
    },
    {
     "data": {
      "text/html": [
       "<div>\n",
       "<style scoped>\n",
       "    .dataframe tbody tr th:only-of-type {\n",
       "        vertical-align: middle;\n",
       "    }\n",
       "\n",
       "    .dataframe tbody tr th {\n",
       "        vertical-align: top;\n",
       "    }\n",
       "\n",
       "    .dataframe thead th {\n",
       "        text-align: right;\n",
       "    }\n",
       "</style>\n",
       "<table border=\"1\" class=\"dataframe\">\n",
       "  <thead>\n",
       "    <tr style=\"text-align: right;\">\n",
       "      <th></th>\n",
       "      <th>session_id</th>\n",
       "      <th>correct</th>\n",
       "    </tr>\n",
       "  </thead>\n",
       "  <tbody>\n",
       "    <tr>\n",
       "      <th>0</th>\n",
       "      <td>20090109393214576_q1</td>\n",
       "      <td>0</td>\n",
       "    </tr>\n",
       "    <tr>\n",
       "      <th>1</th>\n",
       "      <td>20090109393214576_q2</td>\n",
       "      <td>1</td>\n",
       "    </tr>\n",
       "    <tr>\n",
       "      <th>2</th>\n",
       "      <td>20090109393214576_q3</td>\n",
       "      <td>1</td>\n",
       "    </tr>\n",
       "    <tr>\n",
       "      <th>3</th>\n",
       "      <td>20090109393214576_q4</td>\n",
       "      <td>1</td>\n",
       "    </tr>\n",
       "    <tr>\n",
       "      <th>4</th>\n",
       "      <td>20090109393214576_q5</td>\n",
       "      <td>0</td>\n",
       "    </tr>\n",
       "    <tr>\n",
       "      <th>5</th>\n",
       "      <td>20090109393214576_q6</td>\n",
       "      <td>1</td>\n",
       "    </tr>\n",
       "    <tr>\n",
       "      <th>6</th>\n",
       "      <td>20090109393214576_q7</td>\n",
       "      <td>1</td>\n",
       "    </tr>\n",
       "    <tr>\n",
       "      <th>7</th>\n",
       "      <td>20090109393214576_q8</td>\n",
       "      <td>0</td>\n",
       "    </tr>\n",
       "    <tr>\n",
       "      <th>8</th>\n",
       "      <td>20090109393214576_q9</td>\n",
       "      <td>1</td>\n",
       "    </tr>\n",
       "    <tr>\n",
       "      <th>9</th>\n",
       "      <td>20090109393214576_q10</td>\n",
       "      <td>0</td>\n",
       "    </tr>\n",
       "    <tr>\n",
       "      <th>10</th>\n",
       "      <td>20090109393214576_q11</td>\n",
       "      <td>0</td>\n",
       "    </tr>\n",
       "    <tr>\n",
       "      <th>11</th>\n",
       "      <td>20090109393214576_q12</td>\n",
       "      <td>1</td>\n",
       "    </tr>\n",
       "    <tr>\n",
       "      <th>12</th>\n",
       "      <td>20090109393214576_q13</td>\n",
       "      <td>0</td>\n",
       "    </tr>\n",
       "    <tr>\n",
       "      <th>13</th>\n",
       "      <td>20090109393214576_q14</td>\n",
       "      <td>1</td>\n",
       "    </tr>\n",
       "    <tr>\n",
       "      <th>14</th>\n",
       "      <td>20090109393214576_q15</td>\n",
       "      <td>0</td>\n",
       "    </tr>\n",
       "    <tr>\n",
       "      <th>15</th>\n",
       "      <td>20090109393214576_q16</td>\n",
       "      <td>1</td>\n",
       "    </tr>\n",
       "    <tr>\n",
       "      <th>16</th>\n",
       "      <td>20090109393214576_q17</td>\n",
       "      <td>1</td>\n",
       "    </tr>\n",
       "    <tr>\n",
       "      <th>17</th>\n",
       "      <td>20090109393214576_q18</td>\n",
       "      <td>1</td>\n",
       "    </tr>\n",
       "    <tr>\n",
       "      <th>18</th>\n",
       "      <td>20090312143683264_q1</td>\n",
       "      <td>0</td>\n",
       "    </tr>\n",
       "    <tr>\n",
       "      <th>19</th>\n",
       "      <td>20090312143683264_q2</td>\n",
       "      <td>1</td>\n",
       "    </tr>\n",
       "    <tr>\n",
       "      <th>20</th>\n",
       "      <td>20090312143683264_q3</td>\n",
       "      <td>1</td>\n",
       "    </tr>\n",
       "    <tr>\n",
       "      <th>21</th>\n",
       "      <td>20090312143683264_q4</td>\n",
       "      <td>0</td>\n",
       "    </tr>\n",
       "    <tr>\n",
       "      <th>22</th>\n",
       "      <td>20090312143683264_q5</td>\n",
       "      <td>0</td>\n",
       "    </tr>\n",
       "    <tr>\n",
       "      <th>23</th>\n",
       "      <td>20090312143683264_q6</td>\n",
       "      <td>0</td>\n",
       "    </tr>\n",
       "    <tr>\n",
       "      <th>24</th>\n",
       "      <td>20090312143683264_q7</td>\n",
       "      <td>0</td>\n",
       "    </tr>\n",
       "    <tr>\n",
       "      <th>25</th>\n",
       "      <td>20090312143683264_q8</td>\n",
       "      <td>0</td>\n",
       "    </tr>\n",
       "    <tr>\n",
       "      <th>26</th>\n",
       "      <td>20090312143683264_q9</td>\n",
       "      <td>0</td>\n",
       "    </tr>\n",
       "    <tr>\n",
       "      <th>27</th>\n",
       "      <td>20090312143683264_q10</td>\n",
       "      <td>0</td>\n",
       "    </tr>\n",
       "    <tr>\n",
       "      <th>28</th>\n",
       "      <td>20090312143683264_q11</td>\n",
       "      <td>0</td>\n",
       "    </tr>\n",
       "    <tr>\n",
       "      <th>29</th>\n",
       "      <td>20090312143683264_q12</td>\n",
       "      <td>1</td>\n",
       "    </tr>\n",
       "    <tr>\n",
       "      <th>30</th>\n",
       "      <td>20090312143683264_q13</td>\n",
       "      <td>0</td>\n",
       "    </tr>\n",
       "    <tr>\n",
       "      <th>31</th>\n",
       "      <td>20090312143683264_q14</td>\n",
       "      <td>0</td>\n",
       "    </tr>\n",
       "    <tr>\n",
       "      <th>32</th>\n",
       "      <td>20090312143683264_q15</td>\n",
       "      <td>0</td>\n",
       "    </tr>\n",
       "    <tr>\n",
       "      <th>33</th>\n",
       "      <td>20090312143683264_q16</td>\n",
       "      <td>1</td>\n",
       "    </tr>\n",
       "    <tr>\n",
       "      <th>34</th>\n",
       "      <td>20090312143683264_q17</td>\n",
       "      <td>0</td>\n",
       "    </tr>\n",
       "    <tr>\n",
       "      <th>35</th>\n",
       "      <td>20090312143683264_q18</td>\n",
       "      <td>1</td>\n",
       "    </tr>\n",
       "    <tr>\n",
       "      <th>36</th>\n",
       "      <td>20090312331414616_q1</td>\n",
       "      <td>1</td>\n",
       "    </tr>\n",
       "    <tr>\n",
       "      <th>37</th>\n",
       "      <td>20090312331414616_q2</td>\n",
       "      <td>1</td>\n",
       "    </tr>\n",
       "    <tr>\n",
       "      <th>38</th>\n",
       "      <td>20090312331414616_q3</td>\n",
       "      <td>1</td>\n",
       "    </tr>\n",
       "    <tr>\n",
       "      <th>39</th>\n",
       "      <td>20090312331414616_q4</td>\n",
       "      <td>1</td>\n",
       "    </tr>\n",
       "    <tr>\n",
       "      <th>40</th>\n",
       "      <td>20090312331414616_q5</td>\n",
       "      <td>1</td>\n",
       "    </tr>\n",
       "    <tr>\n",
       "      <th>41</th>\n",
       "      <td>20090312331414616_q6</td>\n",
       "      <td>1</td>\n",
       "    </tr>\n",
       "    <tr>\n",
       "      <th>42</th>\n",
       "      <td>20090312331414616_q7</td>\n",
       "      <td>1</td>\n",
       "    </tr>\n",
       "    <tr>\n",
       "      <th>43</th>\n",
       "      <td>20090312331414616_q8</td>\n",
       "      <td>1</td>\n",
       "    </tr>\n",
       "    <tr>\n",
       "      <th>44</th>\n",
       "      <td>20090312331414616_q9</td>\n",
       "      <td>1</td>\n",
       "    </tr>\n",
       "    <tr>\n",
       "      <th>45</th>\n",
       "      <td>20090312331414616_q10</td>\n",
       "      <td>0</td>\n",
       "    </tr>\n",
       "    <tr>\n",
       "      <th>46</th>\n",
       "      <td>20090312331414616_q11</td>\n",
       "      <td>1</td>\n",
       "    </tr>\n",
       "    <tr>\n",
       "      <th>47</th>\n",
       "      <td>20090312331414616_q12</td>\n",
       "      <td>1</td>\n",
       "    </tr>\n",
       "    <tr>\n",
       "      <th>48</th>\n",
       "      <td>20090312331414616_q13</td>\n",
       "      <td>0</td>\n",
       "    </tr>\n",
       "    <tr>\n",
       "      <th>49</th>\n",
       "      <td>20090312331414616_q14</td>\n",
       "      <td>1</td>\n",
       "    </tr>\n",
       "    <tr>\n",
       "      <th>50</th>\n",
       "      <td>20090312331414616_q15</td>\n",
       "      <td>0</td>\n",
       "    </tr>\n",
       "    <tr>\n",
       "      <th>51</th>\n",
       "      <td>20090312331414616_q16</td>\n",
       "      <td>1</td>\n",
       "    </tr>\n",
       "    <tr>\n",
       "      <th>52</th>\n",
       "      <td>20090312331414616_q17</td>\n",
       "      <td>1</td>\n",
       "    </tr>\n",
       "    <tr>\n",
       "      <th>53</th>\n",
       "      <td>20090312331414616_q18</td>\n",
       "      <td>1</td>\n",
       "    </tr>\n",
       "  </tbody>\n",
       "</table>\n",
       "</div>"
      ],
      "text/plain": [
       "               session_id  correct\n",
       "0    20090109393214576_q1        0\n",
       "1    20090109393214576_q2        1\n",
       "2    20090109393214576_q3        1\n",
       "3    20090109393214576_q4        1\n",
       "4    20090109393214576_q5        0\n",
       "5    20090109393214576_q6        1\n",
       "6    20090109393214576_q7        1\n",
       "7    20090109393214576_q8        0\n",
       "8    20090109393214576_q9        1\n",
       "9   20090109393214576_q10        0\n",
       "10  20090109393214576_q11        0\n",
       "11  20090109393214576_q12        1\n",
       "12  20090109393214576_q13        0\n",
       "13  20090109393214576_q14        1\n",
       "14  20090109393214576_q15        0\n",
       "15  20090109393214576_q16        1\n",
       "16  20090109393214576_q17        1\n",
       "17  20090109393214576_q18        1\n",
       "18   20090312143683264_q1        0\n",
       "19   20090312143683264_q2        1\n",
       "20   20090312143683264_q3        1\n",
       "21   20090312143683264_q4        0\n",
       "22   20090312143683264_q5        0\n",
       "23   20090312143683264_q6        0\n",
       "24   20090312143683264_q7        0\n",
       "25   20090312143683264_q8        0\n",
       "26   20090312143683264_q9        0\n",
       "27  20090312143683264_q10        0\n",
       "28  20090312143683264_q11        0\n",
       "29  20090312143683264_q12        1\n",
       "30  20090312143683264_q13        0\n",
       "31  20090312143683264_q14        0\n",
       "32  20090312143683264_q15        0\n",
       "33  20090312143683264_q16        1\n",
       "34  20090312143683264_q17        0\n",
       "35  20090312143683264_q18        1\n",
       "36   20090312331414616_q1        1\n",
       "37   20090312331414616_q2        1\n",
       "38   20090312331414616_q3        1\n",
       "39   20090312331414616_q4        1\n",
       "40   20090312331414616_q5        1\n",
       "41   20090312331414616_q6        1\n",
       "42   20090312331414616_q7        1\n",
       "43   20090312331414616_q8        1\n",
       "44   20090312331414616_q9        1\n",
       "45  20090312331414616_q10        0\n",
       "46  20090312331414616_q11        1\n",
       "47  20090312331414616_q12        1\n",
       "48  20090312331414616_q13        0\n",
       "49  20090312331414616_q14        1\n",
       "50  20090312331414616_q15        0\n",
       "51  20090312331414616_q16        1\n",
       "52  20090312331414616_q17        1\n",
       "53  20090312331414616_q18        1"
      ]
     },
     "execution_count": 17,
     "metadata": {},
     "output_type": "execute_result"
    }
   ],
   "source": [
    "df = pd.read_csv('submission.csv')\n",
    "print( df.shape )\n",
    "df.head(60)"
   ]
  }
 ],
 "metadata": {
  "kernelspec": {
   "display_name": "Python 3",
   "language": "python",
   "name": "python3"
  },
  "language_info": {
   "codemirror_mode": {
    "name": "ipython",
    "version": 3
   },
   "file_extension": ".py",
   "mimetype": "text/x-python",
   "name": "python",
   "nbconvert_exporter": "python",
   "pygments_lexer": "ipython3",
   "version": "3.10.10"
  },
  "papermill": {
   "default_parameters": {},
   "duration": 222.816723,
   "end_time": "2023-06-27T16:01:09.862331",
   "environment_variables": {},
   "exception": null,
   "input_path": "__notebook__.ipynb",
   "output_path": "__notebook__.ipynb",
   "parameters": {},
   "start_time": "2023-06-27T15:57:27.045608",
   "version": "2.4.0"
  }
 },
 "nbformat": 4,
 "nbformat_minor": 5
}
