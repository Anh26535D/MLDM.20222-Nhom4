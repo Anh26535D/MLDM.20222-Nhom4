{
 "cells": [
  {
   "cell_type": "code",
   "execution_count": 1,
   "metadata": {},
   "outputs": [],
   "source": [
    "import pandas as pd\n",
    "import numpy as np\n",
    "\n",
    "import os\n",
    "cur_path = os.getcwd()"
   ]
  },
  {
   "cell_type": "code",
   "execution_count": 2,
   "metadata": {},
   "outputs": [],
   "source": [
    "TRAIN_PATH = \"train.csv\"\n",
    "SAVE_PATH = cur_path + \"/prepared_data/\""
   ]
  },
  {
   "cell_type": "code",
   "execution_count": 3,
   "metadata": {},
   "outputs": [],
   "source": [
    "def createPreparedFeatures(df:pd.DataFrame) -> pd.DataFrame:\n",
    "    df = df.sort_values(by=['session_id', 'elapsed_time'])\n",
    "    df[\"full_event_name\"] = df[\"name\"].astype(\"str\") + \"_\" + df[\"event_name\"].astype(\"str\")\n",
    "\n",
    "    df[\"absolute_coor_x\"] = df[\"room_coor_x\"] + df[\"screen_coor_x\"]\n",
    "    df[\"absolute_coor_y\"] = df[\"room_coor_y\"] + df[\"screen_coor_y\"]\n",
    "\n",
    "    df[\"delta_absolute_coor_x\"] = df[\"absolute_coor_x\"].diff(1).fillna(0)\n",
    "    df[\"delta_absolute_coor_y\"] = df[\"absolute_coor_y\"].diff(1).fillna(0)\n",
    "\n",
    "    df[\"radius_absolute_coor\"] = np.sqrt(df[\"absolute_coor_x\"]**2 + df[\"absolute_coor_y\"]**2)\n",
    "    df[\"tangent_absolute_coor\"] = df[\"absolute_coor_y\"]/df[\"absolute_coor_x\"]\n",
    "\n",
    "    df[\"delta_radius_absolute_coor\"] = np.sqrt(df[\"delta_absolute_coor_x\"]**2 + df[\"delta_absolute_coor_y\"]**2)\n",
    "    df[\"delta_tangent_absolute_coor\"] = df[\"delta_absolute_coor_y\"]/df[\"delta_absolute_coor_x\"]\n",
    "\n",
    "    df[\"page\"] = df[\"page\"].fillna(-1) + 1\n",
    "    df[\"hover_duration\"] = df[\"hover_duration\"].fillna(0)\n",
    "    return df"
   ]
  },
  {
   "cell_type": "code",
   "execution_count": 4,
   "metadata": {},
   "outputs": [
    {
     "name": "stdout",
     "output_type": "stream",
     "text": [
      "Saving train file with level group 0-4 done!\n",
      "Saving train file with level group 5-12 done!\n",
      "Saving train file with level group 13-22 done!\n"
     ]
    }
   ],
   "source": [
    "dtypes = {\"session_id\": \"int64\",\n",
    "        \"index\": np.int16,\n",
    "        \"elapsed_time\": np.int32,\n",
    "        \"event_name\": \"category\",\n",
    "        \"name\": \"category\",\n",
    "        \"level\": np.int8,\n",
    "        \"page\": np.float32,\n",
    "        \"room_coor_x\": np.float32,\n",
    "        \"room_coor_y\": np.float32,\n",
    "        \"screen_coor_x\": np.float32,\n",
    "        \"screen_coor_y\": np.float32,\n",
    "        \"hover_duration\": np.float32,\n",
    "        \"text\": \"category\",\n",
    "        \"fqid\": \"category\",\n",
    "        \"room_fqid\": \"category\",\n",
    "        \"text_fqid\": \"category\",\n",
    "        \"fullscreen\": np.int8,\n",
    "        \"hq\": np.int8,\n",
    "        \"music\": np.int8,\n",
    "        \"level_group\": \"category\"\n",
    "        }\n",
    "\n",
    "\n",
    "use_col = [\"session_id\",\n",
    "        #   \"index\",\n",
    "        \"elapsed_time\",\n",
    "        \"event_name\",\n",
    "        \"name\",\n",
    "        \"level\",\n",
    "        \"page\",\n",
    "        \"room_coor_x\",\n",
    "        \"room_coor_y\",\n",
    "        \"screen_coor_x\",\n",
    "        \"screen_coor_y\",\n",
    "        \"hover_duration\",\n",
    "        \"text\",\n",
    "        # \"fqid\",\n",
    "        # \"room_fqid\",\n",
    "        # \"text_fqid\",\n",
    "        # \"fullscreen\",\n",
    "        # \"hq\",\n",
    "        # \"music\",\n",
    "        \"level_group\"\n",
    "        ]\n",
    "\n",
    "train_raw = pd.read_csv(TRAIN_PATH, dtype=dtypes, usecols=use_col)\n",
    "train_raw = createPreparedFeatures(train_raw)\n",
    "\n",
    "#Saving train file after applying create_features and remove_outliers\n",
    "train_raw[train_raw[\"level_group\"] == \"0-4\"].drop(\"level_group\", axis=1).to_pickle(SAVE_PATH + \"train_0_4.pkl\")\n",
    "print(\"Saving train file with level group 0-4 done!\")\n",
    "\n",
    "train_raw[train_raw[\"level_group\"] == \"5-12\"].drop(\"level_group\", axis=1).to_pickle(SAVE_PATH + \"train_5_12.pkl\")\n",
    "print(\"Saving train file with level group 5-12 done!\")\n",
    "\n",
    "train_raw[train_raw[\"level_group\"] == \"13-22\"].drop(\"level_group\", axis=1).to_pickle(SAVE_PATH + \"train_13_22.pkl\")\n",
    "print(\"Saving train file with level group 13-22 done!\")"
   ]
  }
 ],
 "metadata": {
  "kernelspec": {
   "display_name": "Python 3",
   "language": "python",
   "name": "python3"
  },
  "language_info": {
   "codemirror_mode": {
    "name": "ipython",
    "version": 3
   },
   "file_extension": ".py",
   "mimetype": "text/x-python",
   "name": "python",
   "nbconvert_exporter": "python",
   "pygments_lexer": "ipython3",
   "version": "3.9.13"
  },
  "orig_nbformat": 4
 },
 "nbformat": 4,
 "nbformat_minor": 2
}
