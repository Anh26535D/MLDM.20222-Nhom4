{
 "cells": [
  {
   "attachments": {},
   "cell_type": "markdown",
   "metadata": {},
   "source": [
    "## Import library"
   ]
  },
  {
   "cell_type": "code",
   "execution_count": 1,
   "metadata": {},
   "outputs": [],
   "source": [
    "import pandas as pd\n",
    "import numpy as np\n",
    "import matplotlib.pyplot as plt\n",
    "import polars as pl\n",
    "import seaborn as sns\n",
    "from time import time\n",
    "import pprint\n",
    "import joblib\n",
    "from functools import partial\n",
    "import csv\n",
    "\n",
    "from ContestHelper import *\n",
    "\n",
    "import gc\n",
    "import os\n",
    "cur_path = os.getcwd()\n",
    "\n",
    "import warnings\n",
    "warnings.filterwarnings(\"ignore\")\n",
    "\n",
    "import lightgbm as lgb\n",
    "from lightgbm import LGBMClassifier\n",
    "from lightgbm import Booster\n",
    "\n",
    "from sklearn.model_selection import KFold\n",
    "from sklearn.metrics import f1_score\n",
    "from sklearn.metrics import make_scorer\n",
    "\n",
    "from skopt import BayesSearchCV\n",
    "from skopt.callbacks import DeadlineStopper, DeltaYStopper\n",
    "from skopt.space import Real, Categorical, Integer"
   ]
  },
  {
   "cell_type": "code",
   "execution_count": 2,
   "metadata": {},
   "outputs": [],
   "source": [
    "TRAIN_0_4_PATH = cur_path + \"/prepared_data/train_0_4.pkl\"\n",
    "TRAIN_5_12_PATH = cur_path + \"/prepared_data/train_5_12.pkl\"\n",
    "TRAIN_13_22_PATH = cur_path + \"/prepared_data/train_13_22.pkl\"\n",
    "TRAIN_LABELS_PATH = \"train_labels.csv\""
   ]
  },
  {
   "cell_type": "code",
   "execution_count": 3,
   "metadata": {},
   "outputs": [],
   "source": [
    "train_raw_0_4 = pd.read_pickle(TRAIN_0_4_PATH)\n",
    "train_raw_5_12 = pd.read_pickle(TRAIN_5_12_PATH)\n",
    "train_raw_13_22 = pd.read_pickle(TRAIN_13_22_PATH)"
   ]
  },
  {
   "cell_type": "code",
   "execution_count": 4,
   "metadata": {},
   "outputs": [],
   "source": [
    "targets = pd.read_csv(TRAIN_LABELS_PATH)\n",
    "targets['session'] = targets.session_id.apply(lambda x: int(x.split('_')[0]))\n",
    "targets['q'] = targets.session_id.apply(lambda x: int(x.split('_')[-1][1:]))"
   ]
  },
  {
   "attachments": {},
   "cell_type": "markdown",
   "metadata": {},
   "source": [
    "## Feature engineering"
   ]
  },
  {
   "cell_type": "code",
   "execution_count": 5,
   "metadata": {},
   "outputs": [],
   "source": [
    "NUM_COLS = ['level', \n",
    "            'page',\n",
    "            'hover_duration',\n",
    "            'room_coor_x', 'screen_coor_x',\n",
    "            'room_coor_y', 'screen_coor_y',\n",
    "            'delta_absolute_coor_x', 'delta_absolute_coor_y',\n",
    "            'absolute_coor_x', 'absolute_coor_y',\n",
    "            'radius_absolute_coor',\n",
    "            'tangent_absolute_coor',\n",
    "            'delta_radius_absolute_coor', 'delta_tangent_absolute_coor',\n",
    "            'elapsed_time_diff']\n",
    "\n",
    "CAT_COLS = ['full_event_name',\n",
    "            \"text\",\n",
    "            \"event_name\"]\n",
    "\n",
    "FULL_EVENT_NAME = {\n",
    "    \"0_4\": train_raw_0_4[\"full_event_name\"].unique().tolist(),  \n",
    "    \"5_12\": train_raw_5_12[\"full_event_name\"].unique().tolist(),  \n",
    "    \"13_22\": train_raw_13_22[\"full_event_name\"].unique().tolist()  \n",
    "}\n",
    "\n",
    "SUB_LEVELS = {'0_4': [1, 2, 3, 4],\n",
    "              '5_12': [5, 6, 7, 8, 9, 10, 11, 12],\n",
    "              '13_22': [13, 14, 15, 16, 17, 18, 19, 20, 21, 22]}"
   ]
  },
  {
   "cell_type": "code",
   "execution_count": 6,
   "metadata": {},
   "outputs": [],
   "source": [
    "def agg_by_elapsed_time_diff(col_name, iter_col, feature_suffix):\n",
    "    agg = [\n",
    "        *[pl.col(col_name).filter(pl.col(col_name) == c).count().alias(f\"{c}_{col_name}_{feature_suffix}\")\n",
    "          for c in iter_col],\n",
    "        *[pl.col(\"elapsed_time_diff\").filter(pl.col(col_name) == c).std().alias(f\"{c}_{col_name}_ET_std_{feature_suffix}\") \n",
    "          for c in iter_col],\n",
    "        *[pl.col(\"elapsed_time_diff\").filter(pl.col(col_name) == c).mean().alias(f\"{c}_{col_name}_ET_mean_{feature_suffix}\") \n",
    "          for c in iter_col],\n",
    "        *[pl.col(\"elapsed_time_diff\").filter(pl.col(col_name) == c).sum().alias(f\"{c}_{col_name}_ET_sum_{feature_suffix}\") \n",
    "          for c in iter_col],\n",
    "        *[pl.col(\"elapsed_time_diff\").filter(pl.col(col_name) == c).median().alias(f\"{c}_{col_name}_ET_median_{feature_suffix}\") \n",
    "          for c in iter_col],\n",
    "        *[pl.col(\"elapsed_time_diff\").filter(pl.col(col_name) == c).max().alias(f\"{c}_{col_name}_ET_max_{feature_suffix}\") \n",
    "          for c in iter_col]\n",
    "    ]\n",
    "    return agg\n",
    "\n",
    "def feature_engineer_pl(x, group, feature_suffix):  \n",
    "     \n",
    "    full_event_names = FULL_EVENT_NAME[group]\n",
    "    levels = SUB_LEVELS[group]\n",
    "\n",
    "    x = pl.from_pandas(x)\n",
    "    aggs = [\n",
    "        *[pl.col(c).drop_nulls().n_unique().alias(f\"{c}_unique_{feature_suffix}\") \n",
    "          for c in CAT_COLS],\n",
    "\n",
    "        *[pl.col(c).mean().alias(f\"{c}_mean_{feature_suffix}\") \n",
    "          for c in NUM_COLS],\n",
    "        *[pl.col(c).std().alias(f\"{c}_std_{feature_suffix}\") \n",
    "          for c in NUM_COLS],\n",
    "        *[pl.col(c).min().alias(f\"{c}_min_{feature_suffix}\") \n",
    "          for c in NUM_COLS],\n",
    "        *[pl.col(c).max().alias(f\"{c}_max_{feature_suffix}\") \n",
    "          for c in NUM_COLS],\n",
    "        *[pl.col(c).median().alias(f\"{c}_median_{feature_suffix}\") \n",
    "          for c in NUM_COLS],\n",
    "        *[pl.col(c).quantile(0.25).alias(f\"{c}_q25_{feature_suffix}\") \n",
    "          for c in NUM_COLS],\n",
    "        *[pl.col(c).quantile(0.75).alias(f\"{c}_q75_{feature_suffix}\") \n",
    "          for c in NUM_COLS]]\n",
    "    \n",
    "    aggs.extend(agg_by_elapsed_time_diff(\"full_event_name\", full_event_names, feature_suffix))\n",
    "    aggs.extend(agg_by_elapsed_time_diff(\"level\", levels, feature_suffix))\n",
    "\n",
    "    df = x.groupby(['session_id'], maintain_order=True).agg(aggs).sort(\"session_id\")\n",
    "    return df.to_pandas()"
   ]
  },
  {
   "cell_type": "code",
   "execution_count": 7,
   "metadata": {},
   "outputs": [],
   "source": [
    "def pipeline(df:pd.DataFrame, grp) -> pd.DataFrame:\n",
    "    df = createDeltaElapsedTimeFeatures(df)\n",
    "    df = feature_engineer_pl(df, grp, grp)\n",
    "    df = createTimeFeatures(df)\n",
    "    df = df.set_index('session_id')\n",
    "    return df"
   ]
  },
  {
   "cell_type": "code",
   "execution_count": 8,
   "metadata": {},
   "outputs": [],
   "source": [
    "df1 = pipeline(train_raw_0_4, \"0_4\")\n",
    "df2 = pipeline(train_raw_5_12, \"5_12\")\n",
    "df3 = pipeline(train_raw_13_22, \"13_22\")"
   ]
  },
  {
   "cell_type": "code",
   "execution_count": 9,
   "metadata": {},
   "outputs": [
    {
     "name": "stdout",
     "output_type": "stream",
     "text": [
      "We will train with 23562 users info\n"
     ]
    }
   ],
   "source": [
    "ALL_USERS = df1.index.unique()\n",
    "print('We will train with', len(ALL_USERS) ,'users info')"
   ]
  },
  {
   "cell_type": "code",
   "execution_count": 10,
   "metadata": {},
   "outputs": [],
   "source": [
    "with open(\"FEATURES_Q.csv\", \"r\") as f:\n",
    "    FEATURES_Q = [f.readline().split() for i in range(1,19)]"
   ]
  },
  {
   "attachments": {},
   "cell_type": "markdown",
   "metadata": {},
   "source": [
    "## Tunning params"
   ]
  },
  {
   "cell_type": "code",
   "execution_count": 11,
   "metadata": {},
   "outputs": [],
   "source": [
    "# # Reporting util for different optimizers\n",
    "# def report_perf(optimizer, X, y, title=\"model\", callbacks=None):\n",
    "#     \"\"\"\n",
    "#     A wrapper for measuring time and performance of optmizers\n",
    "    \n",
    "#     optimizer = a sklearn or a skopt optimizer\n",
    "#     X = the training set \n",
    "#     y = our target\n",
    "#     title = a string label for the experiment\n",
    "#     \"\"\"\n",
    "#     start = time()\n",
    "    \n",
    "#     if callbacks is not None:\n",
    "#         optimizer.fit(X, y, callback=callbacks)\n",
    "#     else:\n",
    "#         optimizer.fit(X, y)\n",
    "        \n",
    "#     d=pd.DataFrame(optimizer.cv_results_)\n",
    "#     best_score = optimizer.best_score_\n",
    "#     best_score_std = d.iloc[optimizer.best_index_].std_test_score\n",
    "#     best_params = optimizer.best_params_\n",
    "    \n",
    "#     print((title + \" took %.2f seconds,  candidates checked: %d, best CV score: %.3f \"\n",
    "#            + u\"\\u00B1\"+\" %.3f\") % (time() - start, \n",
    "#                                    len(optimizer.cv_results_['params']),\n",
    "#                                    best_score,\n",
    "#                                    best_score_std))    \n",
    "#     print('Best parameters:')\n",
    "#     pprint.pprint(best_params)\n",
    "#     print()\n",
    "#     return best_params"
   ]
  },
  {
   "cell_type": "code",
   "execution_count": 12,
   "metadata": {},
   "outputs": [],
   "source": [
    "# # Setting the scoring function\n",
    "# scoring = make_scorer(f1_score, average=\"macro\")"
   ]
  },
  {
   "cell_type": "code",
   "execution_count": 13,
   "metadata": {},
   "outputs": [],
   "source": [
    "# kf = KFold(n_splits=5, shuffle=True, random_state=0)"
   ]
  },
  {
   "cell_type": "code",
   "execution_count": 14,
   "metadata": {},
   "outputs": [],
   "source": [
    "# # Setting the basic regressor\n",
    "# reg = lgb.LGBMClassifier(boosting_type= 'gbdt',\n",
    "#                         objective= 'binary',\n",
    "#                         metric= 'binary_logloss',\n",
    "#                         n_jobs=1, \n",
    "#                         verbose=-1,\n",
    "#                         random_state=42)"
   ]
  },
  {
   "cell_type": "code",
   "execution_count": 15,
   "metadata": {},
   "outputs": [],
   "source": [
    "# # Setting the search space\n",
    "# search_spaces = {\n",
    "#     'learning_rate': Real(0.01, 0.06, 'log-uniform'),    # Boosting learning rate\n",
    "#     'n_estimators': Integer(300, 600),                   # Number of boosted trees to fit\n",
    "#     'num_leaves': Integer(4, 256),                       # Maximum tree leaves for base learners\n",
    "#     'max_depth': Integer(4, 32),                         # Maximum tree depth for base learners, <=0 means no limit\n",
    "#     'subsample': Real(0.01, 1.0, 'log-uniform'),             # Subsample ratio of the training instance\n",
    "#     'colsample_bytree': Real(0.01, 1.0, 'log-uniform'),      # Subsample ratio of columns when constructing each tree\n",
    "#     'alpha': Real(8.0, 32.0, 'log-uniform'),            # L1 regularization\n",
    "#    }"
   ]
  },
  {
   "cell_type": "code",
   "execution_count": 16,
   "metadata": {},
   "outputs": [],
   "source": [
    "# # ITERATE THRU QUESTIONS 1 THRU 18\n",
    "# for t in range(1,19):\n",
    "#     print(f\"MODEL -- {t}\")\n",
    "#     # USE THIS TRAIN DATA WITH THESE QUESTIONS\n",
    "#     FEATURES = FEATURES_Q[t-1]\n",
    "#     if t<=3: \n",
    "#         grp = '0-4'\n",
    "#         train_x = df1\n",
    "#     elif t<=13: \n",
    "#         grp = '5-12'\n",
    "#         train_x = df2\n",
    "#     elif t<=22: \n",
    "#         grp = '13-22'\n",
    "#         train_x = df3\n",
    "        \n",
    "#     # TRAIN DATA\n",
    "#     train_users = train_x.index.values\n",
    "#     train_y = targets.loc[targets.q==t].set_index('session').loc[train_users]\n",
    "    \n",
    "#     # Wrapping everything up into the Bayesian optimizer\n",
    "#     opt = BayesSearchCV(estimator=reg,                                    \n",
    "#                         search_spaces=search_spaces,                      \n",
    "#                         scoring=scoring,                                  \n",
    "#                         cv=kf,                                           \n",
    "#                         n_iter=60,                                        # max number of trials\n",
    "#                         n_points=3,                                       # number of hyperparameter sets evaluated at the same time\n",
    "#                         n_jobs=-1,                                        # number of jobs\n",
    "#                         iid=False,                                        # if not iid it optimizes on the cv score\n",
    "#                         return_train_score=False,                         \n",
    "#                         refit=False,                                      \n",
    "#                         optimizer_kwargs={'base_estimator': 'GP'},        # optmizer parameters: we use Gaussian Process (GP)\n",
    "#                         random_state=24)                                   # random state for replicability    \n",
    "    \n",
    "#     # Running the optimizer\n",
    "#     overdone_control = DeltaYStopper(delta=0.0001)               # We stop if the gain of the optimization becomes too small\n",
    "#     time_limit_control = DeadlineStopper(total_time=60 * 60 * 6) # We impose a time limit (6 hours)\n",
    "\n",
    "#     X = train_x[FEATURES].astype('float32')\n",
    "#     y = train_y['correct']\n",
    "#     best_params = report_perf(opt,X ,y ,'LightGBM_regression', \n",
    "#                             callbacks=[overdone_control, time_limit_control])\n",
    "    \n",
    "\n",
    "#     with open('hyperparams_tunning.csv','a', newline=\"\") as f:\n",
    "#         w = csv.writer(f)\n",
    "#         w.writerow(dict(best_params).keys())\n",
    "#         w.writerow(dict(best_params).values())\n",
    "    \n",
    "# print()"
   ]
  },
  {
   "attachments": {},
   "cell_type": "markdown",
   "metadata": {},
   "source": [
    "## Check with tunned params"
   ]
  },
  {
   "cell_type": "code",
   "execution_count": 25,
   "metadata": {},
   "outputs": [],
   "source": [
    "params = {'boosting_type': 'gbdt',\n",
    "        'objective': 'binary',\n",
    "        'metric': 'binary_logloss',\n",
    "        'verbose':-1,\n",
    "       'random_state':42}\n",
    "\n",
    "dtypes = {'colsample_bytree': np.float16,\n",
    "        'learning_rate': np.float16,\n",
    "        'max_depth': np.int16,\n",
    "        'n_estimators': np.int16,\n",
    "        'num_leaves': np.int16,\n",
    "        'alpha': np.float16,\n",
    "        'subsample': np.float16}\n",
    "feat_df = pd.read_csv(\"hyperparams_tunning.csv\", dtype=dtypes)\n",
    "lgb_params = [{**{j:feat_df.loc[i, j] for j in feat_df.columns}, **params} for i in range(18)]"
   ]
  },
  {
   "cell_type": "code",
   "execution_count": 29,
   "metadata": {},
   "outputs": [
    {
     "name": "stdout",
     "output_type": "stream",
     "text": [
      "#########################\n",
      "### Fold 1\n",
      "#########################\n",
      "\n",
      "#########################\n",
      "### Fold 2\n",
      "#########################\n",
      "\n",
      "#########################\n",
      "### Fold 3\n",
      "#########################\n",
      "\n",
      "#########################\n",
      "### Fold 4\n",
      "#########################\n",
      "\n",
      "#########################\n",
      "### Fold 5\n",
      "#########################\n",
      "\n"
     ]
    }
   ],
   "source": [
    "kf = KFold(n_splits=5)\n",
    "oof = pd.DataFrame(data=np.zeros((len(ALL_USERS),18)), index=ALL_USERS)\n",
    "models = {}\n",
    "\n",
    "# COMPUTE CV SCORE WITH 5 GROUP K FOLD\n",
    "for i, (train_index, test_index) in enumerate(kf.split(df1)):\n",
    "    print('#'*25)\n",
    "    print('### Fold',i+1)\n",
    "    print('#'*25)\n",
    "    \n",
    "    # ITERATE THRU QUESTIONS 1 THRU 18\n",
    "    for t in range(1,19):\n",
    "        FEATURES = FEATURES_Q[t-1]\n",
    "        # USE THIS TRAIN DATA WITH THESE QUESTIONS\n",
    "        if t<=3: \n",
    "            grp = '0-4'\n",
    "            # TRAIN DATA\n",
    "            train_x = df1.iloc[train_index]\n",
    "            train_users = train_x.index.values\n",
    "            train_y = targets.loc[targets.q==t].set_index('session').loc[train_users]\n",
    "            \n",
    "            # VALID DATA\n",
    "            valid_x = df1.iloc[test_index]\n",
    "            valid_users = valid_x.index.values\n",
    "            valid_y = targets.loc[targets.q==t].set_index('session').loc[valid_users]\n",
    "        elif t<=13: \n",
    "            grp = '5-12'\n",
    "            # TRAIN DATA\n",
    "            train_x = df2.iloc[train_index]\n",
    "            train_users = train_x.index.values\n",
    "            train_y = targets.loc[targets.q==t].set_index('session').loc[train_users]\n",
    "            \n",
    "            # VALID DATA\n",
    "            valid_x = df2.iloc[test_index]\n",
    "            valid_users = valid_x.index.values\n",
    "            valid_y = targets.loc[targets.q==t].set_index('session').loc[valid_users]\n",
    "        elif t<=22: \n",
    "            grp = '13-22'\n",
    "            # TRAIN DATA\n",
    "            train_x = df3.iloc[train_index]\n",
    "            train_users = train_x.index.values\n",
    "            train_y = targets.loc[targets.q==t].set_index('session').loc[train_users]\n",
    "            \n",
    "            # VALID DATA\n",
    "            valid_x = df3.iloc[test_index]\n",
    "            valid_users = valid_x.index.values\n",
    "            valid_y = targets.loc[targets.q==t].set_index('session').loc[valid_users]\n",
    "    \n",
    "        # TRAIN MODEL        \n",
    "        clf = LGBMClassifier(**lgb_params[t-1])\n",
    "        clf.fit(train_x[FEATURES].astype('float32'), train_y['correct'],\n",
    "                eval_set=[ (valid_x[FEATURES].astype('float32'), valid_y['correct']) ],\n",
    "                verbose=0)\n",
    "\n",
    "        # SAVE MODEL, PREDICT VALID OOF\n",
    "        models[f'{i}_{grp}_{t}'] = clf\n",
    "        oof.loc[valid_users, t-1] = clf.predict_proba(valid_x[FEATURES].astype('float32'))[:,1]\n",
    "        \n",
    "    print()"
   ]
  },
  {
   "cell_type": "code",
   "execution_count": 30,
   "metadata": {},
   "outputs": [
    {
     "name": "stdout",
     "output_type": "stream",
     "text": [
      "0.40, 0.41, 0.42, 0.43, 0.44, 0.45, 0.46, 0.47, 0.48, 0.49, 0.50, 0.51, 0.52, 0.53, 0.54, 0.55, 0.56, 0.57, 0.58, 0.59, 0.60, 0.61, 0.62, 0.63, 0.64, 0.65, 0.66, 0.67, 0.68, 0.69, 0.70, 0.71, 0.72, 0.73, 0.74, 0.75, 0.76, 0.77, 0.78, 0.79, 0.80, "
     ]
    },
    {
     "data": {
      "image/png": "[encoded data removed]",
      "text/plain": [
       "<Figure size 2000x500 with 1 Axes>"
      ]
     },
     "metadata": {},
     "output_type": "display_data"
    }
   ],
   "source": [
    "# PUT TRUE LABELS INTO DATAFRAME WITH 18 COLUMNS\n",
    "true = oof.copy()\n",
    "for k in range(18):\n",
    "    # GET TRUE LABELS\n",
    "    tmp = targets.loc[targets.q == k+1].set_index('session').loc[ALL_USERS]\n",
    "    true[k] = tmp.correct.values\n",
    "\n",
    "# FIND BEST THRESHOLD TO CONVERT PROBS INTO 1s AND 0s\n",
    "scores = []; thresholds = []\n",
    "best_score = 0; best_threshold = 0\n",
    "\n",
    "for threshold in np.arange(0.4,0.81,0.01):\n",
    "    print(f'{threshold:.02f}, ',end='')\n",
    "    preds = (oof.values.reshape((-1))>threshold).astype('int')\n",
    "    m = f1_score(true.values.reshape((-1)), preds, average='macro')   \n",
    "    scores.append(m)\n",
    "    thresholds.append(threshold)\n",
    "    if m>best_score:\n",
    "        best_score = m\n",
    "        best_threshold = threshold\n",
    "\n",
    "# PLOT THRESHOLD VS. F1_SCORE\n",
    "plt.figure(figsize=(20,5))\n",
    "plt.plot(thresholds,scores,'-o',color='blue')\n",
    "plt.scatter([best_threshold], [best_score], color='blue', s=300, alpha=1)\n",
    "plt.xlabel('Threshold',size=14)\n",
    "plt.ylabel('Validation F1 Score',size=14)\n",
    "plt.title(f'Threshold vs. F1_Score with Best F1_Score = {best_score:.3f} at Best Threshold = {best_threshold:.3}',size=18)\n",
    "plt.show()"
   ]
  },
  {
   "cell_type": "code",
   "execution_count": 31,
   "metadata": {},
   "outputs": [
    {
     "name": "stdout",
     "output_type": "stream",
     "text": [
      "When using optimal threshold...\n",
      "Q0: F1 = 0.6643546428518514\n",
      "Q1: F1 = 0.5135819892725368\n",
      "Q2: F1 = 0.5143371055232685\n",
      "Q3: F1 = 0.6525388196282245\n",
      "Q4: F1 = 0.633278737938473\n",
      "Q5: F1 = 0.6309000646917934\n",
      "Q6: F1 = 0.6105601457029493\n",
      "Q7: F1 = 0.5570015356525547\n",
      "Q8: F1 = 0.6145819974989355\n",
      "Q9: F1 = 0.5717077307724923\n",
      "Q10: F1 = 0.5915977237398554\n",
      "Q11: F1 = 0.5162726119387308\n",
      "Q12: F1 = 0.5046594145117111\n",
      "Q13: F1 = 0.6180160374097627\n",
      "Q14: F1 = 0.5660400293851837\n",
      "Q15: F1 = 0.5045947066917474\n",
      "Q16: F1 = 0.5419486917977159\n",
      "Q17: F1 = 0.5046072937370522\n",
      "==> Overall F1 = 0.6851039338034662\n"
     ]
    }
   ],
   "source": [
    "print('When using optimal threshold...')\n",
    "for k in range(18):\n",
    "        \n",
    "    # COMPUTE F1 SCORE PER QUESTION\n",
    "    m = f1_score(true[k].values, (oof[k].values>best_threshold).astype('int'), average='macro')\n",
    "    print(f'Q{k}: F1 =',m)\n",
    "    \n",
    "# COMPUTE F1 SCORE OVERALL\n",
    "m = f1_score(true.values.reshape((-1)), (oof.values.reshape((-1))>best_threshold).astype('int'), average='macro')\n",
    "print('==> Overall F1 =',m)"
   ]
  }
 ],
 "metadata": {
  "kernelspec": {
   "display_name": "Python 3",
   "language": "python",
   "name": "python3"
  },
  "language_info": {
   "codemirror_mode": {
    "name": "ipython",
    "version": 3
   },
   "file_extension": ".py",
   "mimetype": "text/x-python",
   "name": "python",
   "nbconvert_exporter": "python",
   "pygments_lexer": "ipython3",
   "version": "3.9.13"
  },
  "orig_nbformat": 4
 },
 "nbformat": 4,
 "nbformat_minor": 2
}
